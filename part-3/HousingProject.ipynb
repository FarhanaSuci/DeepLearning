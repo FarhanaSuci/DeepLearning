{
 "cells": [
  {
   "cell_type": "code",
   "execution_count": 8,
   "id": "1717b2f5-a097-44e3-89f0-850110b8172e",
   "metadata": {},
   "outputs": [],
   "source": [
    "import warnings"
   ]
  },
  {
   "cell_type": "code",
   "execution_count": 9,
   "id": "7b568f12-fa14-47a8-8f8d-a5d70b52a2f6",
   "metadata": {},
   "outputs": [],
   "source": [
    "warnings.filterwarnings('ignore')"
   ]
  },
  {
   "cell_type": "code",
   "execution_count": 10,
   "id": "9cf7e0c2-1368-4f3e-8f1b-bac42374da3a",
   "metadata": {},
   "outputs": [
    {
     "name": "stdout",
     "output_type": "stream",
     "text": [
      "0.5752655624834984\n",
      "0.4221167801433017\n",
      "0.1747950504778507\n",
      "0.45251629277971206\n",
      "0.703286072522848\n",
      "0.5173507006594698\n",
      "0.2788885694375135\n",
      "0.1827147322430478\n",
      "-0.1957922167311701\n",
      "-0.46293080344445103\n",
      "Baseline: 0.26 (0.34) MSE\n"
     ]
    }
   ],
   "source": [
    "#Regression Example With Boston Dataset: Baseline\n",
    "import numpy\n",
    "import pandas\n",
    "from keras.models import Sequential\n",
    "from keras.layers import Dense\n",
    "from scikeras.wrappers import KerasRegressor\n",
    "from sklearn.model_selection import cross_val_score\n",
    "from sklearn.model_selection import KFold\n",
    "from sklearn.preprocessing import StandardScaler\n",
    "from sklearn.pipeline import Pipeline\n",
    "\n",
    "# load dataset\n",
    "dataframe = pandas.read_csv(\"housing.csv\", delim_whitespace=True, header=None)\n",
    "dataset = dataframe.values\n",
    "# split into input (X) and output (Y) variables\n",
    "X = dataset[:,0:13]\n",
    "Y = dataset[:,13]\n",
    "\n",
    "# define base model\n",
    "def baseline_model():\n",
    "    # create model\n",
    "    model = Sequential()\n",
    "    model.add(Dense(13, input_dim=13, kernel_initializer= 'normal' , activation= 'relu' ))\n",
    "    model.add(Dense(1, kernel_initializer= 'normal'))\n",
    "    # Compile model\n",
    "    model.compile(loss= 'mean_squared_error' , optimizer= 'adam')\n",
    "    return model\n",
    "\n",
    "#evaluate model with standardized dataset\n",
    "model = KerasRegressor(build_fn=baseline_model, epochs=100, batch_size=5, verbose=0)\n",
    "kfold = KFold(n_splits=10)\n",
    "results = cross_val_score(model, X, Y, cv=kfold)\n",
    "\n",
    "for x in results:\n",
    "    print(x)\n",
    "print(\"Baseline: %.2f (%.2f) MSE\" % (results.mean(), results.std()))"
   ]
  },
  {
   "cell_type": "code",
   "execution_count": null,
   "id": "80a0ccda-8269-4f8c-94e1-a23e586f86dd",
   "metadata": {},
   "outputs": [],
   "source": []
  }
 ],
 "metadata": {
  "kernelspec": {
   "display_name": "Python 3 (ipykernel)",
   "language": "python",
   "name": "python3"
  },
  "language_info": {
   "codemirror_mode": {
    "name": "ipython",
    "version": 3
   },
   "file_extension": ".py",
   "mimetype": "text/x-python",
   "name": "python",
   "nbconvert_exporter": "python",
   "pygments_lexer": "ipython3",
   "version": "3.12.2"
  }
 },
 "nbformat": 4,
 "nbformat_minor": 5
}
